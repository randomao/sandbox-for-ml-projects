{
 "cells": [
  {
   "cell_type": "markdown",
   "metadata": {},
   "source": [
    "# Scrape information about a company from its website\n",
    "\n",
    "* Make use of internet archive to get point in time data. 1) Find the archive at closest date, 2) \n",
    "* Queue system - only run extract for new data points\n",
    "* "
   ]
  },
  {
   "cell_type": "code",
   "execution_count": 1,
   "metadata": {},
   "outputs": [],
   "source": [
    "import requests"
   ]
  },
  {
   "cell_type": "code",
   "execution_count": null,
   "metadata": {},
   "outputs": [],
   "source": [
    "websites_list = [\n",
    "    'https://bellandsonsbutchers.co.uk/'\n",
    "    , 'https://blu1london.co.uk/'\n",
    "    , 'https://crossfitbermondsey.com/'\n",
    "    , 'https://furniturama.co.uk/'\n",
    "    , 'https://www.oskatproperties.com/'\n",
    "    , 'https://www.pitcherandcraft.com/'\n",
    "    , 'https://yaa-asantewa-tropical.business.site/' # example of currently defunct site\n",
    "    , 'https://yoyosparlour.co.uk/'\n",
    "]"
   ]
  }
 ],
 "metadata": {
  "kernelspec": {
   "display_name": "myenv",
   "language": "python",
   "name": "python3"
  },
  "language_info": {
   "codemirror_mode": {
    "name": "ipython",
    "version": 3
   },
   "file_extension": ".py",
   "mimetype": "text/x-python",
   "name": "python",
   "nbconvert_exporter": "python",
   "pygments_lexer": "ipython3",
   "version": "3.12.2"
  }
 },
 "nbformat": 4,
 "nbformat_minor": 2
}
